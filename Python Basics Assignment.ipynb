{
 "cells": [
  {
   "cell_type": "markdown",
   "id": "4e4effe8-c050-462a-96b8-64769c9e6131",
   "metadata": {},
   "source": [
    "# Python Basics Questions"
   ]
  },
  {
   "cell_type": "markdown",
   "id": "175dfce1-8003-41af-8d58-b49355794bbf",
   "metadata": {},
   "source": [
    "#### (1) What is python ,and why is it popular?\n",
    "->Python is a high-level, interpreted programming language known for its easy-to-read syntax and versatility.\n",
    "\n",
    "- Why python is popular.\n",
    "\n",
    "(a) Easy to learn: python has a simple syntax ,making it accessible to beginners.\n",
    "\n",
    "(b) Interpreted language: python is a interpreted language means it executes code line by line, rather than compiling the entire code at once.\n",
    "\n",
    "(c) Free and open source: python is developed under an open source licence which means any one can use and distribute python for free,even for commercial purposes.\n",
    "\n",
    "(d) Extensive libraries: python has extensive libraries , which are collections of code that make task more efficient and simplify the development process.\n",
    "\n",
    "(e) Versatility:Python can be used for a wide range of applications including web development,data analysis,machine learning,etc."
   ]
  },
  {
   "cell_type": "markdown",
   "id": "76a1d8d0-55ec-4d3e-8548-c3c3c63e7140",
   "metadata": {},
   "source": [
    "### (2) What is an interpreter in python?\n",
    "\n",
    "- Python being a scripting language it contains a software package called interpreter.Interpreter reads and executes python code line by line .\n",
    "   It translates the human readable Python code (source code) into machine code (which the computer can execute) at runtime.Interpreter shows \n",
    "   one error at a time and error occurs after scanning each line. "
   ]
  },
  {
   "cell_type": "markdown",
   "id": "0c8feca7-157b-4c35-9bca-5e2b895c735c",
   "metadata": {},
   "source": [
    "### (3) What are pre- defined keywords in python? \n",
    "\n",
    "- Pre defined keywords in python are words that have specific meanings and are resrved for use in python programmes .They cannot be used as \n",
    "  identifiers (such as variable names, function names, etc.)"
   ]
  },
  {
   "cell_type": "markdown",
   "id": "079c54b6-7d45-4a1e-b8c2-5fa629f82c15",
   "metadata": {},
   "source": [
    "### (4) Can keywords be used as a variable names?\n",
    "\n",
    "- No keywords cannot be used as a variable name because doing so would creat an amiguity, making it unclear whether you are referring to the keyword\n",
    "  (which has a specific meaning) or trying to assign a value to a variable."
   ]
  },
  {
   "cell_type": "markdown",
   "id": "66cb4b86-c36f-41ed-8daf-dde4d476d09d",
   "metadata": {},
   "source": [
    "### (5) What is mutability in python?\n",
    "- An object is considered mutable if its state or value can be modified after it is created . This means that you can alter its internal data or\n",
    "  attributs without creating a new object."
   ]
  },
  {
   "cell_type": "markdown",
   "id": "b01a70fe-4152-4f51-8f8e-799de64eba74",
   "metadata": {},
   "source": [
    "### (6) why are lists mutable , but tuples are immutable?\n",
    "-  In Python, lists are designed to be flexible and mutable. This means you can modify, add, or remove elements from a list after it has been created.\n",
    "   This is particularly useful for tasks where you need to frequently change the data structure.Tuples, on the other hand, are designed to be\n",
    "   immutable. Once a tuple is created, its elements cannot be changed, added, or removed.This immutability makes tuples ideal for use cases\n",
    "   where you need a constant set of values"
   ]
  },
  {
   "cell_type": "markdown",
   "id": "65901541-ffd5-49ad-996d-979201ff312a",
   "metadata": {},
   "source": [
    "### (7) What are the difference between \"==\" and \"is\" operators in python?\n",
    "- In python \"==\" and \"is\" opertor both are uses for comparison but they have different purposes.\n",
    " \n",
    "-> \"==\" operator checks if the value of two objects are equal.\n",
    "  \n",
    "-> \"is\" operator checks if the objects are same.It means it checks if different variable are pointing to the same object in memory."
   ]
  },
  {
   "cell_type": "markdown",
   "id": "198fb29e-1d45-4b79-8e32-259ac0529efd",
   "metadata": {},
   "source": [
    "### (8) What are logical operators in python?\n",
    "- Logical operator are used to combine multiple codition together and eveluate them as a single boolean expression.There are three typrs of \n",
    "  logical operators in python:'and' , 'or' , 'not'.\n",
    "\n",
    "->'and' operator: The and operator returns 'True' if all conditions it is evaluating are true , otherwise it returns 'False'.\n",
    "\n",
    "->'or' operator : The or operator returns 'true' if atleast one of the conditions it is evaluating is true.\n",
    "\n",
    "->'not' operator: The not operator returns the opposite of the boolean value of the operand .If operand is True ,it will return False and vice versa.\n"
   ]
  },
  {
   "cell_type": "markdown",
   "id": "5835e9c1-85dd-4330-bcaa-7a6f839e9e61",
   "metadata": {},
   "source": [
    "### (9) What is type casting in python?\n",
    "- The conversion of one data type  into the other data type is known type casting in python or type conversion in python.\n",
    "  There are two varities of type casting in python namely : Explicit type casting and Implicit type casting.\n"
   ]
  },
  {
   "cell_type": "markdown",
   "id": "98a5f0a0-6d30-46b4-b844-3b260b1ccd68",
   "metadata": {},
   "source": [
    "### (10) What is the difference between implicit and explicit type casting?\n",
    "\n",
    "-There are two varities of type casting in python namely : Explicit type casting and Implicit type casting.\n",
    "\n",
    "-> Explicit type casting: The conversion of one data type into another data type , done via user intervention or manually .\n",
    "\n",
    "-> Imlicit type casting: In impicit type casting python automatically converts one data type into another data type without any user's need."
   ]
  },
  {
   "cell_type": "markdown",
   "id": "c966ed98-2698-4c7c-a22b-515b5b9fc278",
   "metadata": {},
   "source": [
    "### (11) What is purpose of conditional statements in python?\n",
    "\n",
    "- In Python, a conditional statement is used to execute a specific block of code based on whether acondition is True or False. It helps control\n",
    "  the flow of a program by making decisions depending on the values of variables or expressions at runtime."
   ]
  },
  {
   "cell_type": "markdown",
   "id": "d98cf52b-33d7-4d92-b8bd-30bf87e3c168",
   "metadata": {},
   "source": [
    "### (12) How does the elif statement works?\n",
    "\n",
    "- In python elif is short for \"else if\" and is uded when the first if ststement isn't true , but you want to check for another condition .The elif\n",
    "  keyword in python is a way of saying \"if the previous condition were not true , then try this condition .It can be  used to check multiple \n",
    "  conditions.\n",
    "  \n",
    " ###### for example:\n",
    " if condition1:\n",
    " \n",
    "    # code to execute if condition1 is True\n",
    "    \n",
    "elif condition2:\n",
    "\n",
    "    # code to execute if condition1 is False and condition2 is True\n",
    "    \n",
    "elif condition3:\n",
    "\n",
    "    # code to execute if conditions 1 and 2 are False and condition3 is True\n",
    "    \n",
    "else:\n",
    "\n",
    "    # code to execute if none of the above conditions are True\n"
   ]
  },
  {
   "cell_type": "markdown",
   "id": "5a663125-89e2-432c-a03f-cf17dc73acc6",
   "metadata": {},
   "source": [
    "### (13) What is the difference between for and while loop?\n",
    "- Loop:A loop is a control structure that is used to perform a set of instructions for a specific number of lines.\n",
    "  \n",
    "-> Loops are a programming element that repeat a portion of code a set number of times until the desired process is complete.\n",
    "  Repetative tasks are common in programming , and loops are essential to save time and minimize errors.\n",
    "  \n",
    "  ##### Difference between for loops and while loops\n",
    "\n",
    "-> While loop: A while loop keeps iterating(means repets again and again)over a certain set of operations as long as a certain condition holds true.\n",
    "\n",
    "    Syntax of while loop:\n",
    "(1)Initialization\n",
    "\n",
    "(2)Condition for while loop\n",
    "\n",
    "(3)Update the value\n",
    "\n",
    "-> For loop: For loop is used when you know exactlyhow many times you want to iterate through block of code .\n",
    "\n",
    "    syntax of for loop:\n",
    "\n",
    "for iterator in iterable:\n",
    "\n",
    "    print(iterator)\n"
   ]
  },
  {
   "cell_type": "markdown",
   "id": "ce4e938a-e4f1-43c2-988f-597a541047d8",
   "metadata": {},
   "source": [
    "#### (14) Describe a scenario where a while loop is suitable than for loop.\n",
    "\n",
    "-A while loop is more suitable than a for loop when the number of iterations is not known beforehand and depends on a condition that changes dynamically\n",
    "    during the execution of the loop."
   ]
  },
  {
   "cell_type": "markdown",
   "id": "2238ddbf-6484-4f22-bafd-9fa103c42bdb",
   "metadata": {},
   "source": [
    "# Python Practical Question"
   ]
  },
  {
   "cell_type": "markdown",
   "id": "0b647ce6-2a78-4b41-815f-e8f1867a55a8",
   "metadata": {},
   "source": [
    "# (1) Write a python program to print \"Hello,World!\"\n"
   ]
  },
  {
   "cell_type": "code",
   "execution_count": 31,
   "id": "a606efcd-013a-426c-847a-50efc4de8c28",
   "metadata": {},
   "outputs": [
    {
     "name": "stdout",
     "output_type": "stream",
     "text": [
      "Hello,World!\n"
     ]
    }
   ],
   "source": [
    "print(\"Hello,World!\")\n"
   ]
  },
  {
   "cell_type": "markdown",
   "id": "13d97fc4-578c-4815-829c-7d305ce98af8",
   "metadata": {},
   "source": [
    "# (2) Write a python program that displays your name and age.\n",
    "\n"
   ]
  },
  {
   "cell_type": "code",
   "execution_count": 32,
   "id": "ec939da0-2b6d-490e-814a-eee647a0455e",
   "metadata": {},
   "outputs": [
    {
     "name": "stdout",
     "output_type": "stream",
     "text": [
      "satish yadav\n",
      "25\n"
     ]
    }
   ],
   "source": [
    "Name = \"satish yadav\"\n",
    "Age = 25\n",
    "\n",
    "print(Name)\n",
    "print(Age)"
   ]
  },
  {
   "cell_type": "markdown",
   "id": "e2b66b88-5080-4d9e-b78d-98e6ffdc9a55",
   "metadata": {},
   "source": [
    "# (3) Write code to print all pre-defined keywords in python using the keyword library.\n"
   ]
  },
  {
   "cell_type": "code",
   "execution_count": 33,
   "id": "79b0ec93-3655-4708-8c2e-05fe51115eb4",
   "metadata": {},
   "outputs": [
    {
     "name": "stdout",
     "output_type": "stream",
     "text": [
      "['False', 'None', 'True', 'and', 'as', 'assert', 'async', 'await', 'break', 'class', 'continue', 'def', 'del', 'elif', 'else', 'except', 'finally', 'for', 'from', 'global', 'if', 'import', 'in', 'is', 'lambda', 'nonlocal', 'not', 'or', 'pass', 'raise', 'return', 'try', 'while', 'with', 'yield']\n"
     ]
    }
   ],
   "source": [
    "import keyword\n",
    "print(keyword.kwlist)"
   ]
  },
  {
   "cell_type": "markdown",
   "id": "155a4456-2289-4b9b-b20d-19ac22be2c11",
   "metadata": {},
   "source": [
    "# (4)  Write a program that checks if a given word is a python keyword.\n",
    "\n"
   ]
  },
  {
   "cell_type": "code",
   "execution_count": 35,
   "id": "ecd207a4-d6c3-4f7e-8768-6e883cbd8f5e",
   "metadata": {},
   "outputs": [
    {
     "name": "stdin",
     "output_type": "stream",
     "text": [
      " True\n"
     ]
    },
    {
     "name": "stdout",
     "output_type": "stream",
     "text": [
      "it is a python keyword\n"
     ]
    }
   ],
   "source": [
    "import keyword\n",
    "\n",
    "word = input()\n",
    "\n",
    "if keyword.iskeyword(word):\n",
    "    print(\"it is a python keyword\")\n",
    "else:\n",
    "    print(\"it is not a python keyword\")\n"
   ]
  },
  {
   "cell_type": "markdown",
   "id": "f045a087-ff02-417a-be97-c985623762cc",
   "metadata": {},
   "source": [
    "# (5) Create a list and tuple in python, and demonstrate how attempting to change an element works differently for each."
   ]
  },
  {
   "cell_type": "code",
   "execution_count": 2,
   "id": "c13af6e1-a82a-468a-a284-8487f371c3ce",
   "metadata": {},
   "outputs": [
    {
     "name": "stdout",
     "output_type": "stream",
     "text": [
      "my original list [1, 2, 3, 4]\n",
      "my updated list [11, 2, 3, 4]\n",
      "my original tuple (1, 2, 3, 4)\n",
      "error 'tuple' object does not support item assignment\n",
      "my updated tuple (1, 2, 3, 4)\n"
     ]
    }
   ],
   "source": [
    "my_list = [1,2,3,4]\n",
    "print(\"my original list\",my_list)\n",
    "my_list[0]=11\n",
    "print(\"my updated list\",my_list)\n",
    "\n",
    "\n",
    "my_tuple = (1,2,3,4)\n",
    "print(\"my original tuple\",my_tuple)\n",
    "try:\n",
    "    my_tuple[0]=11\n",
    "except TypeError as e:\n",
    "    print(\"error\",e)\n",
    "print(\"my updated tuple\",my_tuple)"
   ]
  },
  {
   "cell_type": "markdown",
   "id": "26fcf08d-60ff-4824-b92f-1f1f76090506",
   "metadata": {},
   "source": [
    "# (6) Write a function to demonstrate the behaviour of mutable and immutable arguments."
   ]
  },
  {
   "cell_type": "code",
   "execution_count": 12,
   "id": "9dfdb092-705b-49ad-a7a9-72d6294bad7f",
   "metadata": {},
   "outputs": [
    {
     "name": "stdout",
     "output_type": "stream",
     "text": [
      "before modification\n",
      "[1, 2, 3, 4]\n",
      "(1, 2, 3, 4)\n",
      "after change mutable [1, 2, 3, 4, 4]\n",
      "error 'tuple' object does not support item assignment\n",
      "after change immutable (1, 2, 3, 4)\n"
     ]
    }
   ],
   "source": [
    "def demonstrate_mutable_immutable(mymutable,immutable):\n",
    "  print(\"before modification\")\n",
    "  print(mymutable)\n",
    "  print(immutable)\n",
    "  mymutable.append(4)\n",
    "  print(\"after change mutable\",mymutable)\n",
    "  try:\n",
    "     immutable[0]=14\n",
    "  except TypeError as e:\n",
    "     print(\"error\",e)\n",
    "\n",
    "  print(\"after change immutable\",immutable)\n",
    "\n",
    "mymutable=[1,2,3,4]\n",
    "immutable=(1,2,3,4)\n",
    "demonstrate_mutable_immutable(mymutable,immutable)"
   ]
  },
  {
   "cell_type": "markdown",
   "id": "46e26b54-b735-446a-8d08-e82a395ef329",
   "metadata": {},
   "source": [
    "# (7) Write a function to demonstrate the behaviour of mutable and immutable arguments."
   ]
  },
  {
   "cell_type": "code",
   "execution_count": 13,
   "id": "25ab59ad-06a4-4793-94e8-53af6e769a94",
   "metadata": {},
   "outputs": [
    {
     "name": "stdout",
     "output_type": "stream",
     "text": [
      "before modification\n",
      "[1, 2, 3, 4]\n",
      "(1, 2, 3, 4)\n",
      "after change mutable [1, 2, 3, 4, 4]\n",
      "error 'tuple' object does not support item assignment\n",
      "after change immutable (1, 2, 3, 4)\n"
     ]
    }
   ],
   "source": [
    "def demonstrate_mutable_immutable(mymutable,immutable):\n",
    "  print(\"before modification\")\n",
    "  print(mymutable)\n",
    "  print(immutable)\n",
    "  mymutable.append(4)\n",
    "  print(\"after change mutable\",mymutable)\n",
    "  try:\n",
    "     immutable[0]=14\n",
    "  except TypeError as e:\n",
    "     print(\"error\",e)\n",
    "\n",
    "  print(\"after change immutable\",immutable)\n",
    "\n",
    "mymutable=[1,2,3,4]\n",
    "immutable=(1,2,3,4)\n",
    "demonstrate_mutable_immutable(mymutable,immutable)"
   ]
  },
  {
   "cell_type": "markdown",
   "id": "f14698e2-932b-4a63-93da-7d653e12bd27",
   "metadata": {},
   "source": [
    "# (8) Write a program to demonstrate the use of logical operatos.\n",
    "\n"
   ]
  },
  {
   "cell_type": "code",
   "execution_count": 3,
   "id": "76f33585-0b85-4b2b-aa1f-06152d36c520",
   "metadata": {},
   "outputs": [
    {
     "name": "stdout",
     "output_type": "stream",
     "text": [
      "True\n"
     ]
    }
   ],
   "source": [
    "# Demonstrate the use of 'and' logical operator\n",
    "\n",
    "x = \"True\"\n",
    "y = \"True\"\n",
    "\n",
    "print(x and y)"
   ]
  },
  {
   "cell_type": "code",
   "execution_count": 4,
   "id": "17ab0ce1-f3e6-4534-af43-c8476c25ba9a",
   "metadata": {},
   "outputs": [
    {
     "name": "stdout",
     "output_type": "stream",
     "text": [
      "True\n"
     ]
    }
   ],
   "source": [
    "#  Demonstrate the use of 'or' logical operator\n",
    "x = \"True\"\n",
    "y = \"False\"\n",
    "\n",
    "print(x or y)\n"
   ]
  },
  {
   "cell_type": "code",
   "execution_count": 5,
   "id": "3b3d33aa-676b-460d-93d1-405a55e123c8",
   "metadata": {},
   "outputs": [
    {
     "name": "stdout",
     "output_type": "stream",
     "text": [
      "False\n"
     ]
    }
   ],
   "source": [
    "# Demonstrate the use of 'not' logical operator\n",
    "\n",
    "x = \"True\"\n",
    "y = \"False\"\n",
    "\n",
    "print(not x)\n"
   ]
  },
  {
   "cell_type": "markdown",
   "id": "7656dfb6-293b-45b8-b2de-f24ffa6898e2",
   "metadata": {},
   "source": [
    "# (9) Write a python program to convert user input from string to integer ,float,and boolean types."
   ]
  },
  {
   "cell_type": "code",
   "execution_count": 9,
   "id": "7401f549-c639-42fb-b4fe-3efb81270074",
   "metadata": {},
   "outputs": [
    {
     "name": "stdout",
     "output_type": "stream",
     "text": [
      "45\n"
     ]
    }
   ],
   "source": [
    "user_input = \"45\"\n",
    "\n",
    "# Convert input to integer\n",
    "\n",
    "print(int(user_input))"
   ]
  },
  {
   "cell_type": "code",
   "execution_count": 10,
   "id": "758c180a-f6b0-468b-9b32-935bfad3c4ee",
   "metadata": {},
   "outputs": [
    {
     "name": "stdout",
     "output_type": "stream",
     "text": [
      "45.0\n"
     ]
    }
   ],
   "source": [
    "# Convert input to float\n",
    "\n",
    "print(float(user_input))"
   ]
  },
  {
   "cell_type": "code",
   "execution_count": 11,
   "id": "739f6e42-3ed5-4772-b1db-90f11dcb2010",
   "metadata": {},
   "outputs": [
    {
     "name": "stdout",
     "output_type": "stream",
     "text": [
      "True\n"
     ]
    }
   ],
   "source": [
    "# Convert input to boolean\n",
    "\n",
    "print(bool(user_input))"
   ]
  },
  {
   "cell_type": "markdown",
   "id": "89d794e7-e429-42af-a40f-8f789be96aaa",
   "metadata": {},
   "source": [
    "# (10) Write a code to demonstrate type casting with list element."
   ]
  },
  {
   "cell_type": "code",
   "execution_count": 13,
   "id": "075cb579-950f-4d24-a5fe-a0ea3c38113f",
   "metadata": {},
   "outputs": [
    {
     "name": "stdout",
     "output_type": "stream",
     "text": [
      "Converted to Integer: [10, None, None, None, 35, None, None]\n"
     ]
    }
   ],
   "source": [
    "string_list = ['10', '20.5', 'True', 'False', '35', '42.8', 'yes']\n",
    "\n",
    "# Convert all elements to integers\n",
    "\n",
    "int_list = []\n",
    "for item in string_list:\n",
    "    try:\n",
    "        int_list.append(int(item))\n",
    "    except ValueError:\n",
    "        int_list.append(None)  # Append None if conversion fails\n",
    "\n",
    "print(\"Converted to Integer:\", int_list)\n"
   ]
  },
  {
   "cell_type": "markdown",
   "id": "b92aef01-b8f1-4b66-bcbb-4090c4ab6ef3",
   "metadata": {},
   "source": [
    "# (11) Write a program that check if a number is positive,negative,or zero."
   ]
  },
  {
   "cell_type": "code",
   "execution_count": 17,
   "id": "2607e14c-138f-4b98-888c-c27306bce339",
   "metadata": {},
   "outputs": [
    {
     "name": "stdin",
     "output_type": "stream",
     "text": [
      " 4\n"
     ]
    },
    {
     "name": "stdout",
     "output_type": "stream",
     "text": [
      "positive\n"
     ]
    }
   ],
   "source": [
    "n = int(input())\n",
    "\n",
    "if n > 0:\n",
    "    print(\"positive\")\n",
    "elif n < 0:\n",
    "    print(\"negative\")\n",
    "else:\n",
    "    print(\"zero\")"
   ]
  },
  {
   "cell_type": "code",
   "execution_count": 18,
   "id": "147a13b9-0ec6-471d-96b6-42774518c3ce",
   "metadata": {},
   "outputs": [
    {
     "name": "stdin",
     "output_type": "stream",
     "text": [
      " -2\n"
     ]
    },
    {
     "name": "stdout",
     "output_type": "stream",
     "text": [
      "negative\n"
     ]
    }
   ],
   "source": [
    "n = int(input())\n",
    "\n",
    "if n > 0:\n",
    "    print(\"positive\")\n",
    "elif n < 0:\n",
    "    print(\"negative\")\n",
    "else:\n",
    "    print(\"zero\")"
   ]
  },
  {
   "cell_type": "code",
   "execution_count": 19,
   "id": "c2af08f9-3a43-4a4a-a11b-54def9c99b92",
   "metadata": {},
   "outputs": [
    {
     "name": "stdin",
     "output_type": "stream",
     "text": [
      " 0\n"
     ]
    },
    {
     "name": "stdout",
     "output_type": "stream",
     "text": [
      "zero\n"
     ]
    }
   ],
   "source": [
    "n = int(input())\n",
    "\n",
    "if n > 0:\n",
    "    print(\"positive\")\n",
    "elif n < 0:\n",
    "    print(\"negative\")\n",
    "else:\n",
    "    print(\"zero\")"
   ]
  },
  {
   "cell_type": "markdown",
   "id": "439be30e-c3a1-4a3f-8b7a-cf842d6e9083",
   "metadata": {},
   "source": [
    "# (12) Write a for loop to print number from 1 to 10."
   ]
  },
  {
   "cell_type": "code",
   "execution_count": 20,
   "id": "07d99508-c180-4742-ad8d-d86a694d2230",
   "metadata": {},
   "outputs": [
    {
     "name": "stdin",
     "output_type": "stream",
     "text": [
      " 10\n"
     ]
    },
    {
     "name": "stdout",
     "output_type": "stream",
     "text": [
      "1 2 3 4 5 6 7 8 9 10 "
     ]
    }
   ],
   "source": [
    "n = int(input())\n",
    "\n",
    "for i in range(1,n+1):\n",
    "    print(i , end = \" \")\n",
    "    "
   ]
  },
  {
   "cell_type": "markdown",
   "id": "0fcb1b4b-68bb-4902-aaa5-e054f82c9f59",
   "metadata": {},
   "source": [
    "# (13) Write a python program to find sum of all even numbers between 1 to 50."
   ]
  },
  {
   "cell_type": "code",
   "execution_count": 25,
   "id": "563a63db-6d0d-4709-9977-e14631e75493",
   "metadata": {},
   "outputs": [
    {
     "name": "stdout",
     "output_type": "stream",
     "text": [
      "650\n"
     ]
    }
   ],
   "source": [
    "n = 50\n",
    "total = 0\n",
    "for i in range(2,1+n,2):\n",
    "    total+=i\n",
    "\n",
    "print(total)"
   ]
  },
  {
   "cell_type": "markdown",
   "id": "610ee35e-c977-4d01-8a32-db852d7b3a88",
   "metadata": {},
   "source": [
    "# (14) Write a program to reverse  a string using a while loop."
   ]
  },
  {
   "cell_type": "code",
   "execution_count": 26,
   "id": "ba771504-7945-4aa3-be92-e5a4fdd5ae93",
   "metadata": {},
   "outputs": [
    {
     "name": "stdout",
     "output_type": "stream",
     "text": [
      "10\n",
      "9\n",
      "8\n",
      "7\n",
      "6\n",
      "5\n",
      "4\n",
      "3\n",
      "2\n",
      "1\n"
     ]
    }
   ],
   "source": [
    "n = 10\n",
    "\n",
    "while n >= 1:\n",
    "    print(n)\n",
    "    n -= 1"
   ]
  },
  {
   "cell_type": "markdown",
   "id": "3a773de9-75ea-42b9-836c-c7cfc404e53c",
   "metadata": {},
   "source": [
    "# (15) Write a python program to calculate the factorial of a number provided by the user using a while loop."
   ]
  },
  {
   "cell_type": "code",
   "execution_count": 14,
   "id": "93bec3f8-0f2f-4d56-b0f8-e74c602a4d1c",
   "metadata": {},
   "outputs": [
    {
     "name": "stdin",
     "output_type": "stream",
     "text": [
      " 6\n"
     ]
    },
    {
     "name": "stdout",
     "output_type": "stream",
     "text": [
      "720\n"
     ]
    }
   ],
   "source": [
    "n = int(input())\n",
    "start = 1\n",
    "ans = 1\n",
    "while start <= n:\n",
    "    ans *= start\n",
    "    start += 1\n",
    "print(ans)"
   ]
  },
  {
   "cell_type": "code",
   "execution_count": null,
   "id": "1deaf617-dea6-443b-adae-8c06248fd3b7",
   "metadata": {},
   "outputs": [],
   "source": []
  }
 ],
 "metadata": {
  "kernelspec": {
   "display_name": "Python 3 (ipykernel)",
   "language": "python",
   "name": "python3"
  },
  "language_info": {
   "codemirror_mode": {
    "name": "ipython",
    "version": 3
   },
   "file_extension": ".py",
   "mimetype": "text/x-python",
   "name": "python",
   "nbconvert_exporter": "python",
   "pygments_lexer": "ipython3",
   "version": "3.12.6"
  }
 },
 "nbformat": 4,
 "nbformat_minor": 5
}
